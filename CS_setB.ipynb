{
  "nbformat": 4,
  "nbformat_minor": 0,
  "metadata": {
    "colab": {
      "provenance": [],
      "gpuType": "T4"
    },
    "kernelspec": {
      "name": "python3",
      "display_name": "Python 3"
    },
    "language_info": {
      "name": "python"
    },
    "accelerator": "GPU"
  },
  "cells": [
    {
      "cell_type": "markdown",
      "source": [
        "<hr style=\"height:1px;border-width:0;color:gray;background-color:#87805E\">\n",
        "\n",
        "# <font color=\"E38B29\"> <center>CSA301 - Deep Learning : Autumn Semester 2023\n",
        "\n",
        "# <font color=\"E38B29\"> <center>Practical Test - SET B : [15 Marks]</center>\n",
        "# <font color=\"E38B29\"> <center>Duration : 1 Hr : 30 Minutes</center>\n",
        "# <hr>"
      ],
      "metadata": {
        "id": "Xdy4CZmTdwPJ"
      }
    },
    {
      "cell_type": "markdown",
      "source": [
        "## <font color = \"red\"> **Note**: Rename your file as \"**CS/IT/AI_Student Number**\". You might lose marks for not reading the questions carefully. Do not forget to change the runtime type to `GPU` for faster training."
      ],
      "metadata": {
        "id": "EUY8swumf_j1"
      }
    },
    {
      "cell_type": "markdown",
      "source": [
        "### **INSTRUCTIONS**"
      ],
      "metadata": {
        "id": "uujVka0EgQsI"
      }
    },
    {
      "cell_type": "markdown",
      "source": [
        "### 1. Load the CIFAR-10 dataset via the Keras API and assign to `X_train, X_test, y_train, y_test`. <font color = \"red\">[1 Mark]"
      ],
      "metadata": {
        "id": "pjoWN7uenoVb"
      }
    },
    {
      "cell_type": "code",
      "source": [
        "# Write your solution here\n",
        "from tensorflow.keras.datasets import cifar10\n",
        "\n",
        "(X_train, X_test), (y_train, y_test) = cifar10.load_data()"
      ],
      "metadata": {
        "id": "rkrEOuisfN8X",
        "colab": {
          "base_uri": "https://localhost:8080/"
        },
        "outputId": "d080130b-748f-47c6-a8af-4077b9a71dd6"
      },
      "execution_count": 1,
      "outputs": [
        {
          "output_type": "stream",
          "name": "stdout",
          "text": [
            "Downloading data from https://www.cs.toronto.edu/~kriz/cifar-10-python.tar.gz\n",
            "170498071/170498071 [==============================] - 2s 0us/step\n"
          ]
        }
      ]
    },
    {
      "cell_type": "markdown",
      "source": [
        "### 2. How many training and testing images are there? <font color=\"red\">[0.5 Mark]</font>"
      ],
      "metadata": {
        "id": "alVbYVOvsskK"
      }
    },
    {
      "cell_type": "code",
      "source": [
        "# Write your solution here\n",
        "print(\"X_train:\", X_train.shape[:1])\n",
        "print(\"X_test:\", X_test.shape[:1])\n",
        "print(\"y_train:\", y_train.shape[:1])\n",
        "print(\"y_test:\", y_test.shape[:1])"
      ],
      "metadata": {
        "id": "rqE_IGsBsqAm",
        "colab": {
          "base_uri": "https://localhost:8080/"
        },
        "outputId": "985e5b42-e820-4270-f93c-4974c405ac14"
      },
      "execution_count": 6,
      "outputs": [
        {
          "output_type": "stream",
          "name": "stdout",
          "text": [
            "X_train: (50000,)\n",
            "X_test: (50000,)\n",
            "y_train: (10000,)\n",
            "y_test: (10000,)\n"
          ]
        }
      ]
    },
    {
      "cell_type": "markdown",
      "source": [
        "### 3. What are the dimension and channel of the cifar-10 images? <font color=\"red\">[0.5 Mark]</font>"
      ],
      "metadata": {
        "id": "tK-aSdcGCJFM"
      }
    },
    {
      "cell_type": "code",
      "source": [
        "# Write your solution here\n",
        "print(\"Dimension and Channel:\", X_train.shape[1:])"
      ],
      "metadata": {
        "id": "36AQ0yAVCEbX",
        "colab": {
          "base_uri": "https://localhost:8080/"
        },
        "outputId": "9da927b6-cb66-4f1c-c662-45f5986ba205"
      },
      "execution_count": 7,
      "outputs": [
        {
          "output_type": "stream",
          "name": "stdout",
          "text": [
            "Dimension and Channel: (32, 32, 3)\n"
          ]
        }
      ]
    },
    {
      "cell_type": "markdown",
      "source": [
        "### 4. Plot 9 images from the cifar-10 dataset. <font color=\"red\">[1 Mark]</font>"
      ],
      "metadata": {
        "id": "d2UBu9bjS6rZ"
      }
    },
    {
      "cell_type": "code",
      "source": [
        "# Code to plot 9 random images\n",
        "# Import necessary libraries\n",
        "import matplotlib.pyplot as plt\n",
        "import numpy as np\n",
        "from tensorflow.keras.datasets import cifar10\n",
        "\n",
        "# Load CIFAR-10 dataset\n",
        "(X_train, y_train), (_, _) = cifar10.load_data()\n",
        "\n",
        "# Select 9 random indices\n",
        "indices = np.random.choice(X_train.shape[0], 9, replace=False)\n",
        "\n",
        "# Plot the images\n",
        "plt.figure(figsize=(10, 10))\n",
        "for i, idx in enumerate(indices, 1):\n",
        "    plt.subplot(3, 3, i)\n",
        "    plt.imshow(X_train[idx])\n",
        "    plt.title(f\"Class: {y_train[idx][0]}\")\n",
        "    plt.axis('off')\n",
        "\n",
        "plt.show()"
      ],
      "metadata": {
        "id": "EQ2GjkugS1hR",
        "colab": {
          "base_uri": "https://localhost:8080/",
          "height": 829
        },
        "outputId": "14887ae3-0c46-43fd-bf7a-cd27d60a8d6c"
      },
      "execution_count": 8,
      "outputs": [
        {
          "output_type": "display_data",
          "data": {
            "text/plain": [
              "<Figure size 1000x1000 with 9 Axes>"
            ],
            "image/png": "[encoded data removed]"
          },
          "metadata": {}
        }
      ]
    },
    {
      "cell_type": "markdown",
      "source": [
        "### 5. Create a `train_data_gen` and `test_data_gen` using `ImageDataGenerator`. For `train_data_gen`, use data augmentation: `rescale`, `vertical_flip`, `zoom_range = 0.1`, `height_shift_range = 0.2`. <font color=\"red\">[1 Mark]</font>"
      ],
      "metadata": {
        "id": "5lJ7qu9bWwIM"
      }
    },
    {
      "cell_type": "code",
      "source": [
        "# Code for train_data_gen\n",
        "from tensorflow.keras.preprocessing.image import ImageDataGenerator\n",
        "from tensorflow.keras.datasets import cifar10\n",
        "\n",
        "train_datagen = ImageDataGenerator(\n",
        "    rescale=1./255,\n",
        "    vertical_flip=True,\n",
        "    zoom_range=0.1,\n",
        "    height_shift_range=0.2\n",
        ")"
      ],
      "metadata": {
        "id": "IHwNvf41T6L2"
      },
      "execution_count": 11,
      "outputs": []
    },
    {
      "cell_type": "code",
      "source": [
        "# Code for test_data_gen\n",
        "test_datagen = ImageDataGenerator(rescale=1./255)"
      ],
      "metadata": {
        "id": "NvY8ShkCa_Rd"
      },
      "execution_count": 12,
      "outputs": []
    },
    {
      "cell_type": "markdown",
      "source": [
        "### 6. Create a data generator called `train_data` and `test_data` using the `flow()` method. You need to specify `batch size = 64`. <font color=\"red\">[1 Mark]</font>"
      ],
      "metadata": {
        "id": "c3Pc0nO8cWrE"
      }
    },
    {
      "cell_type": "code",
      "source": [
        "from tensorflow.keras.utils import to_categorical"
      ],
      "metadata": {
        "id": "D0-atgRp3Uqe"
      },
      "execution_count": 21,
      "outputs": []
    },
    {
      "cell_type": "code",
      "source": [
        "# Rescale pixel values to the range [0, 1]\n",
        "X_train = X_train.astype('float32') / 255.0\n",
        "X_test = X_test.astype('float32') / 255.0"
      ],
      "metadata": {
        "id": "XRp6zoLb3LvW"
      },
      "execution_count": 51,
      "outputs": []
    },
    {
      "cell_type": "code",
      "source": [
        "# Code for train_data\n",
        "batch_size = 64\n",
        "train_data = train_datagen.flow(X_train, y_train, batch_size=batch_size, shuffle=True)"
      ],
      "metadata": {
        "id": "5djrxuV9bSMg"
      },
      "execution_count": 55,
      "outputs": []
    },
    {
      "cell_type": "code",
      "source": [
        "# Code for test_data\n",
        "test_data = test_datagen.flow(X_test, y_test, batch_size=batch_size, shuffle=False)"
      ],
      "metadata": {
        "id": "dPir7D5KgPms"
      },
      "execution_count": 56,
      "outputs": []
    },
    {
      "cell_type": "markdown",
      "source": [
        "### 7. Create a convolutional neural network architecture by referring to the image. **Note:** `The network architecture should be same as the given image`. <font color=\"red\">[2 Mark]</font>"
      ],
      "metadata": {
        "id": "QNXGK65veDYh"
      }
    },
    {
      "cell_type": "markdown",
      "source": [
        "![picture](https://i.ibb.co/bWdFz1B/set-B.png)"
      ],
      "metadata": {
        "id": "7t4-tGrCvI-0"
      }
    },
    {
      "cell_type": "code",
      "source": [
        "# Code for model architecture\n",
        "from tensorflow.keras.models import Sequential\n",
        "from tensorflow.keras.layers import Conv2D, BatchNormalization, Activation, MaxPooling2D, Flatten, Dense\n",
        "\n",
        "model = Sequential()\n",
        "\n",
        "model.add(Conv2D(32, (3, 3), padding='same', input_shape=(32, 32, 3), name='conv2d_6'))\n",
        "model.add(BatchNormalization(name='batch_normalization_2'))\n",
        "model.add(Activation('relu', name='activation_4'))\n",
        "\n",
        "\n",
        "model.add(Conv2D(32, (3, 3), padding='same', name='conv2d_7'))\n",
        "model.add(Activation('relu', name='activation_5'))\n",
        "\n",
        "\n",
        "model.add(MaxPooling2D(pool_size=(2, 2), name='max_pooling2d_3'))\n",
        "\n",
        "model.add(Conv2D(64, (3, 3), padding='valid', name='conv2d_8'))\n",
        "\n",
        "\n",
        "model.add(MaxPooling2D(pool_size=(2, 2), name='max_pooling2d_4'))\n",
        "\n",
        "model.add(Flatten(name='flatten_1'))\n",
        "\n",
        "model.add(Dense(512, activation='relu', name='dense_3'))\n",
        "\n",
        "\n",
        "model.add(Dense(512, activation='relu', name='dense_4'))\n",
        "\n",
        "model.add(Dense(10, activation='softmax', name='dense_5'))"
      ],
      "metadata": {
        "id": "Y8Hn68GEeD7S"
      },
      "execution_count": 57,
      "outputs": []
    },
    {
      "cell_type": "markdown",
      "source": [
        "### 8. View the summary of the model. <font color=\"red\">[0.5 Mark]</font>"
      ],
      "metadata": {
        "id": "PCyth2HLpodi"
      }
    },
    {
      "cell_type": "code",
      "source": [
        "# Model summary\n",
        "model.summary()"
      ],
      "metadata": {
        "id": "W9IIarLLprgr",
        "colab": {
          "base_uri": "https://localhost:8080/"
        },
        "outputId": "6ab89c0d-620b-4ca6-e871-175c54e8113d"
      },
      "execution_count": 58,
      "outputs": [
        {
          "output_type": "stream",
          "name": "stdout",
          "text": [
            "Model: \"sequential_4\"\n",
            "_________________________________________________________________\n",
            " Layer (type)                Output Shape              Param #   \n",
            "=================================================================\n",
            " conv2d_6 (Conv2D)           (None, 32, 32, 32)        896       \n",
            "                                                                 \n",
            " batch_normalization_2 (Bat  (None, 32, 32, 32)        128       \n",
            " chNormalization)                                                \n",
            "                                                                 \n",
            " activation_4 (Activation)   (None, 32, 32, 32)        0         \n",
            "                                                                 \n",
            " conv2d_7 (Conv2D)           (None, 32, 32, 32)        9248      \n",
            "                                                                 \n",
            " activation_5 (Activation)   (None, 32, 32, 32)        0         \n",
            "                                                                 \n",
            " max_pooling2d_3 (MaxPoolin  (None, 16, 16, 32)        0         \n",
            " g2D)                                                            \n",
            "                                                                 \n",
            " conv2d_8 (Conv2D)           (None, 14, 14, 64)        18496     \n",
            "                                                                 \n",
            " max_pooling2d_4 (MaxPoolin  (None, 7, 7, 64)          0         \n",
            " g2D)                                                            \n",
            "                                                                 \n",
            " flatten_1 (Flatten)         (None, 3136)              0         \n",
            "                                                                 \n",
            " dense_3 (Dense)             (None, 512)               1606144   \n",
            "                                                                 \n",
            " dense_4 (Dense)             (None, 512)               262656    \n",
            "                                                                 \n",
            " dense_5 (Dense)             (None, 10)                5130      \n",
            "                                                                 \n",
            "=================================================================\n",
            "Total params: 1902698 (7.26 MB)\n",
            "Trainable params: 1902634 (7.26 MB)\n",
            "Non-trainable params: 64 (256.00 Byte)\n",
            "_________________________________________________________________\n"
          ]
        }
      ]
    },
    {
      "cell_type": "markdown",
      "source": [
        "### 9. Specify an `SGD` optimizer with the learning rate of `0.001` and save it to variable `optimzer`. <font color=\"red\">[0.5 Mark]</font>"
      ],
      "metadata": {
        "id": "j04vTow2qJ4C"
      }
    },
    {
      "cell_type": "code",
      "source": [
        "import tensorflow\n",
        "\n",
        "from tensorflow.keras.optimizers import SGD\n",
        "\n",
        "optimizer = SGD(learning_rate=0.001)"
      ],
      "metadata": {
        "id": "OLJ1BbZEpw5D"
      },
      "execution_count": 59,
      "outputs": []
    },
    {
      "cell_type": "markdown",
      "source": [
        "### 10. Compile the model with revelant parameters. <font color=\"red\">[1 Mark]</font>"
      ],
      "metadata": {
        "id": "e1ciftaUqYoR"
      }
    },
    {
      "cell_type": "code",
      "source": [
        "# Compile code\n",
        "model.compile(optimizer=optimizer, metrics=[\"accuracy\"], loss=\"categorical_crossentropy\")"
      ],
      "metadata": {
        "id": "IzLaaPfSqVDG"
      },
      "execution_count": 63,
      "outputs": []
    },
    {
      "cell_type": "markdown",
      "source": [
        "### 11. Define `EarlyStopping` callbacks with parameters: `monitor, patience = 2, verbose = 1, mode = 'max'`. Assign EarlyStopping callback to `early_stop` variable. Also define `ModelCheckpoint` callbacks with parameters `monitor`, `mode = 'max'`. Assign CSVLogger to `checkpoint` variable. <font color=\"red\">[1 Mark]</font>"
      ],
      "metadata": {
        "id": "V9JmckDoqmcn"
      }
    },
    {
      "cell_type": "code",
      "source": [
        "# Callbacks code\n",
        "from tensorflow.keras.callbacks import EarlyStopping, ModelCheckpoint, CSVLogger\n",
        "\n",
        "# Define EarlyStopping callback\n",
        "early_stop = EarlyStopping(\n",
        "    monitor='val_accuracy',  # Change 'val_accuracy' to the metric you want to monitor\n",
        "    patience=2,\n",
        "    verbose=1,\n",
        "    mode='max'\n",
        ")\n",
        "\n",
        "# Define ModelCheckpoint callback\n",
        "checkpoint = ModelCheckpoint(\n",
        "    filepath='best_model.h5',  # Change the filepath as needed\n",
        "    monitor='val_accuracy',  # Change 'val_accuracy' to the metric you want to monitor\n",
        "    save_best_only=True,\n",
        "    mode='max'\n",
        ")\n",
        "\n",
        "# Define CSVLogger callback (optional)\n",
        "csv_logger = CSVLogger('training.log')"
      ],
      "metadata": {
        "id": "Sq9jNXIhqlE0"
      },
      "execution_count": 64,
      "outputs": []
    },
    {
      "cell_type": "markdown",
      "source": [
        "### 12. Fit the neural network for 5 epochs. Use relevant parameters to successfully train the model. <font color=\"red\">[1 Mark]</font>"
      ],
      "metadata": {
        "id": "iv3lh6qerjIz"
      }
    },
    {
      "cell_type": "code",
      "source": [
        "history = model.fit(\n",
        "    train_data,\n",
        "    epochs=5,\n",
        "    validation_data=test_data,\n",
        "    callbacks=[early_stop]\n",
        ")"
      ],
      "metadata": {
        "id": "C6vID2JPraaM",
        "colab": {
          "base_uri": "https://localhost:8080/"
        },
        "outputId": "420c8aef-21bf-44c2-c88a-346925108be1"
      },
      "execution_count": 65,
      "outputs": [
        {
          "output_type": "stream",
          "name": "stdout",
          "text": [
            "Epoch 1/5\n",
            "782/782 [==============================] - 44s 44ms/step - loss: nan - accuracy: 0.9719 - val_loss: nan - val_accuracy: 1.0000\n",
            "Epoch 2/5\n",
            "782/782 [==============================] - 34s 44ms/step - loss: nan - accuracy: 1.0000 - val_loss: nan - val_accuracy: 1.0000\n",
            "Epoch 3/5\n",
            "782/782 [==============================] - 38s 48ms/step - loss: nan - accuracy: 1.0000 - val_loss: nan - val_accuracy: 1.0000\n",
            "Epoch 3: early stopping\n"
          ]
        }
      ]
    },
    {
      "cell_type": "markdown",
      "source": [
        "### 13. Explain the training logs. <font color=\"red\">[1 Mark]</font>"
      ],
      "metadata": {
        "id": "bvqvUx-9vt6F"
      }
    },
    {
      "cell_type": "markdown",
      "source": [
        "**Answer**:Training logs provide crucial information during the training of a neural network. For each epoch, the logs typically include the epoch number, training loss, training accuracy, validation loss, and validation accuracy. These values offer insights into the model's performance, showcasing how well it is learning from the training data and generalizing to unseen validation data. Monitoring these metrics aids in adjusting hyperparameters, detecting overfitting or underfitting, and making informed decisions to optimize the model's performance. The logs serve as a key tool for assessing and improving the training process."
      ],
      "metadata": {
        "id": "yFQjuA42v0UE"
      }
    },
    {
      "cell_type": "markdown",
      "source": [
        "### 14. Find out the train and test accuracy of the model. <font color=\"red\">[1 Mark]</font>"
      ],
      "metadata": {
        "id": "RaBHf5A74IlA"
      }
    },
    {
      "cell_type": "code",
      "source": [
        "\n",
        "train_loss, train_accuracy = model.evaluate(train_data)\n",
        "\n",
        "test_loss, test_accuracy = model.evaluate(test_data)\n",
        "\n",
        "print(\"Train accuracy:\", train_accuracy)\n",
        "print(\"Test accuracy:\", train_accuracy)"
      ],
      "metadata": {
        "id": "zleTeqCO4KEo",
        "colab": {
          "base_uri": "https://localhost:8080/"
        },
        "outputId": "f7f7b4dd-f9fe-480f-afd9-7cab52d1eb1f"
      },
      "execution_count": 68,
      "outputs": [
        {
          "output_type": "stream",
          "name": "stdout",
          "text": [
            "782/782 [==============================] - 30s 39ms/step - loss: nan - accuracy: 1.0000\n",
            "157/157 [==============================] - 1s 7ms/step - loss: nan - accuracy: 1.0000\n",
            "Train accuracy: 1.0\n",
            "Test accuracy: 1.0\n"
          ]
        }
      ]
    },
    {
      "cell_type": "markdown",
      "source": [
        "### 15. Plot the confusion matrix and classification report of test data. <font color=\"red\">[2 Mark]</font>\n",
        "\n",
        "**Use**: `class_names = [\"T-shirt/top\",\n",
        "    \"Trouser\",\n",
        "    \"Pullover\",\n",
        "    \"Dress\",\n",
        "    \"Coat\",\n",
        "    \"Sandal\",\n",
        "    \"Shirt\",\n",
        "    \"Sneaker\",\n",
        "    \"Bag\",\n",
        "    \"Ankle boot\"\n",
        "]`"
      ],
      "metadata": {
        "id": "pn20z6yC4LsK"
      }
    },
    {
      "cell_type": "code",
      "source": [
        "import numpy as np\n",
        "import matplotlib.pyplot as plt\n",
        "from sklearn.metrics import confusion_matrix, classification_report\n",
        "from tensorflow.keras.models import load_model\n",
        "from tensorflow.keras.utils import to_categorical"
      ],
      "metadata": {
        "id": "2jLPsDgMCw9X"
      },
      "execution_count": 73,
      "outputs": []
    },
    {
      "cell_type": "code",
      "source": [
        "# Make predictions on the test data\n",
        "y_pred = model.predict(X_test)\n",
        "y_pred_classes = np.argmax(y_pred, axis=1)\n",
        "class_names = [\"T-shirt/top\", \"Trouser\", \"Pullover\", \"Dress\", \"Coat\", \"Sandal\", \"Shirt\", \"Sneaker\", \"Bag\", \"Ankle boot\"]\n",
        "\n",
        "# Plot the confusion matrix\n",
        "conf_matrix = confusion_matrix(y_test, y_pred_classes)\n",
        "plt.imshow(conf_matrix, interpolation='nearest', cmap=plt.cm.Blues)\n",
        "plt.title('Confusion Matrix')\n",
        "plt.colorbar()\n",
        "tick_marks = np.arange(len(class_names))\n",
        "plt.xticks(tick_marks, class_names, rotation=45)\n",
        "plt.yticks(tick_marks, class_names)\n",
        "plt.xlabel('Predicted Label')\n",
        "plt.ylabel('True Label')\n",
        "plt.show()\n",
        "\n",
        "# Print the classification report\n",
        "print('Classification Report:')\n",
        "print(classification_report(y_test, y_pred_classes, target_names=class_names))"
      ],
      "metadata": {
        "colab": {
          "base_uri": "https://localhost:8080/",
          "height": 974
        },
        "id": "oY0fd1QjCr3V",
        "outputId": "b02090a4-b5ef-4658-c4c7-49b1cea07e1e"
      },
      "execution_count": 74,
      "outputs": [
        {
          "output_type": "stream",
          "name": "stdout",
          "text": [
            "313/313 [==============================] - 1s 2ms/step\n"
          ]
        },
        {
          "output_type": "display_data",
          "data": {
            "text/plain": [
              "<Figure size 640x480 with 2 Axes>"
            ],
            "image/png": "[encoded data removed]"
          },
          "metadata": {}
        },
        {
          "output_type": "stream",
          "name": "stdout",
          "text": [
            "Classification Report:\n",
            "              precision    recall  f1-score   support\n",
            "\n",
            " T-shirt/top       0.10      1.00      0.18      1000\n",
            "     Trouser       0.00      0.00      0.00      1000\n",
            "    Pullover       0.00      0.00      0.00      1000\n",
            "       Dress       0.00      0.00      0.00      1000\n",
            "        Coat       0.00      0.00      0.00      1000\n",
            "      Sandal       0.00      0.00      0.00      1000\n",
            "       Shirt       0.00      0.00      0.00      1000\n",
            "     Sneaker       0.00      0.00      0.00      1000\n",
            "         Bag       0.00      0.00      0.00      1000\n",
            "  Ankle boot       0.00      0.00      0.00      1000\n",
            "\n",
            "    accuracy                           0.10     10000\n",
            "   macro avg       0.01      0.10      0.02     10000\n",
            "weighted avg       0.01      0.10      0.02     10000\n",
            "\n"
          ]
        },
        {
          "output_type": "stream",
          "name": "stderr",
          "text": [
            "/usr/local/lib/python3.10/dist-packages/sklearn/metrics/_classification.py:1344: UndefinedMetricWarning: Precision and F-score are ill-defined and being set to 0.0 in labels with no predicted samples. Use `zero_division` parameter to control this behavior.\n",
            "  _warn_prf(average, modifier, msg_start, len(result))\n",
            "/usr/local/lib/python3.10/dist-packages/sklearn/metrics/_classification.py:1344: UndefinedMetricWarning: Precision and F-score are ill-defined and being set to 0.0 in labels with no predicted samples. Use `zero_division` parameter to control this behavior.\n",
            "  _warn_prf(average, modifier, msg_start, len(result))\n",
            "/usr/local/lib/python3.10/dist-packages/sklearn/metrics/_classification.py:1344: UndefinedMetricWarning: Precision and F-score are ill-defined and being set to 0.0 in labels with no predicted samples. Use `zero_division` parameter to control this behavior.\n",
            "  _warn_prf(average, modifier, msg_start, len(result))\n"
          ]
        }
      ]
    },
    {
      "cell_type": "markdown",
      "source": [
        "# <hr>\n",
        "# <font color=\"E38B29\"> <center> All The Best</center>\n",
        "# <hr>"
      ],
      "metadata": {
        "id": "enc3OMgNv-tM"
      }
    }
  ]
}